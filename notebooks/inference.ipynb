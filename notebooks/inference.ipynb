{
  "cells": [
    {
      "cell_type": "markdown",
      "metadata": {
        "id": "oHKfXmw7hiyG"
      },
      "source": [
        "# Crop mask and crop type inference 🌍\n",
        "[![Open In Colab](https://colab.research.google.com/assets/colab-badge.svg)](https://colab.research.google.com/github/nasaharvest/crop-mask/blob/master/notebooks/inference.ipynb)\n",
        "\n",
        "**Author:** Ivan Zvonkov (izvonkov@umd.edu)\n",
        "\n",
        "**Description:** This notebook provides all the code to create a crop mask or crop type map using NASA Harvest's Google Cloud architecture. Access to the Google Cloud project is required.\n",
        "\n",
        "The notebook is in beta mode so issue reports and suggestions are welcome! \n"
      ]
    },
    {
      "cell_type": "code",
      "execution_count": null,
      "metadata": {
        "id": "6-BkEAN73YSy"
      },
      "outputs": [],
      "source": [
        "!pip install rasterio>=1.2.6 geopandas==0.9.0 -q"
      ]
    },
    {
      "cell_type": "code",
      "execution_count": null,
      "metadata": {
        "id": "B6j-evZH3YS0"
      },
      "outputs": [],
      "source": [
        "!pip install cropharvest==0.3.0 -q"
      ]
    },
    {
      "cell_type": "code",
      "execution_count": null,
      "metadata": {
        "id": "IuQ7iQd4DCfn"
      },
      "outputs": [],
      "source": [
        "import ee\n",
        "import google\n",
        "import IPython\n",
        "import ipywidgets as widgets\n",
        "import os\n",
        "import re\n",
        "import requests\n",
        "\n",
        "from cropharvest.eo import EarthEngineExporter\n",
        "from cropharvest.countries import BBox\n",
        "from collections import defaultdict\n",
        "from datetime import date\n",
        "from glob import glob\n",
        "from google.colab import auth\n",
        "from google.cloud import storage\n",
        "from ipywidgets import Box\n",
        "from pathlib import Path\n",
        "from tqdm.notebook import tqdm"
      ]
    },
    {
      "cell_type": "markdown",
      "metadata": {
        "id": "06f9A0Nh4qD7"
      },
      "source": [
        "# Functions\n",
        "Below are the functions that are used in the notebook, no changes are needed. Just run the cell!"
      ]
    },
    {
      "cell_type": "code",
      "execution_count": null,
      "metadata": {
        "id": "wIlG8pV_4wJb"
      },
      "outputs": [],
      "source": [
        "#######################################################\n",
        "# Status functions\n",
        "#######################################################\n",
        "def get_ee_task_amount(prefix=None):\n",
        "    amount = 0\n",
        "    task_list = ee.data.getTaskList()\n",
        "    for t in tqdm(task_list):\n",
        "      if t[\"state\"] in [\"READY\", \"RUNNING\"]:\n",
        "        if prefix and prefix in t[\"description\"]:\n",
        "          amount += 1\n",
        "        else:\n",
        "          amount += 1\n",
        "    return amount\n",
        "\n",
        "def get_gcs_file_dict_and_amount(bucket_name, prefix):\n",
        "    blobs = client.list_blobs(bucket_name, prefix=prefix)\n",
        "    files_dict = defaultdict(lambda: [])\n",
        "    amount = 0\n",
        "    for blob in tqdm(blobs, desc=f\"From {bucket_name}\"):\n",
        "        p = Path(blob.name)\n",
        "        files_dict[str(p.parent)].append(p.stem.replace(\"pred_\", \"\"))\n",
        "        amount += 1\n",
        "    return files_dict, amount\n",
        "\n",
        "def get_gcs_file_amount(bucket_name, prefix):\n",
        "    return len(list(client.list_blobs(bucket_name, prefix=prefix)))\n",
        "\n",
        "def get_status(model_name_version):\n",
        "    print(\"------------------------------------------------------------------------------\")\n",
        "    print(model_name_version) \n",
        "    print(\"------------------------------------------------------------------------------\")\n",
        "    ee_task_amount = get_ee_task_amount(prefix=model_name_version.replace(\"/\", \"-\"))\n",
        "    tifs_amount = get_gcs_file_amount(tifs_bucket_name, prefix=model_name_version)\n",
        "    predictions_amount = get_gcs_file_amount(preds_bucket_name, prefix=model_name_version)\n",
        "    print(f\"Earth Engine tasks: {ee_task_amount}\")\n",
        "    print(f\"Data available: {tifs_amount}\")\n",
        "    print(f\"Predictions: {predictions_amount}\")\n",
        "    return ee_task_amount, tifs_amount, predictions_amount\n",
        "\n",
        "#######################################################\n",
        "# Inference functions\n",
        "#######################################################\n",
        "\n",
        "def find_missing_predictions(model_name_version, verbose=False):\n",
        "    print(\"Addressing missing files\")\n",
        "    tif_files, tif_amount = get_gcs_file_dict_and_amount(tifs_bucket_name, prefix=model_name_version)\n",
        "    pred_files, pred_amount  = get_gcs_file_dict_and_amount(preds_bucket_name, prefix=model_name_version)\n",
        "    missing = {}\n",
        "    for full_k in tqdm(tif_files.keys(), desc=\"Missing files\"):\n",
        "        if full_k not in pred_files:\n",
        "            diffs = tif_files[full_k]\n",
        "        else:\n",
        "            diffs = list(set(tif_files[full_k]) - set(pred_files[full_k]))\n",
        "        if len(diffs) > 0:\n",
        "            missing[full_k] = diffs\n",
        "\n",
        "    batches_with_issues = len(missing.keys())\n",
        "    if verbose:\n",
        "        print(\"------------------------------------------------------------------------------\")\n",
        "        print(prefix) \n",
        "        print(\"------------------------------------------------------------------------------\")\n",
        "    if batches_with_issues > 0:\n",
        "        print(f\"\\u2716 {batches_with_issues}/{len(tif_files.keys())} batches have a total {tif_amount - pred_amount} missing predictions\")\n",
        "        if verbose:\n",
        "            for batch, files in missing.items():\n",
        "                print(\"\\t--------------------------------------------------\")\n",
        "                print(f\"\\t{Path(batch).stem}: {len(files)}\")\n",
        "                print(\"\\t--------------------------------------------------\")\n",
        "                [print(f\"\\t{f}\") for f in files]\n",
        "    else:\n",
        "        print(f\"\\u2714 all files in each batch match\")\n",
        "    return missing\n",
        "\n",
        "def make_new_predictions(missing):\n",
        "    bucket = client.bucket(tifs_bucket_name)\n",
        "    for batch, files in tqdm(missing.items(), desc=\"Going through batches\"):\n",
        "        for file in tqdm(files, desc=\"Renaming files\", leave=False):\n",
        "            blob_name = f\"{batch}/{file}.tif\"\n",
        "            blob = bucket.blob(blob_name)\n",
        "            if blob.exists():\n",
        "                new_blob_name = f\"{batch}/{file}-retry1.tif\"\n",
        "                bucket.rename_blob(blob, new_blob_name)\n",
        "            else:\n",
        "                print(f\"Could not find: {blob_name}\")  \n",
        "\n",
        "#######################################################\n",
        "# Map making functions\n",
        "#######################################################\n",
        "def gdal_cmd(cmd_type: str, in_file: str, out_file: str, msg = None, print_cmd=False):\n",
        "    if cmd_type == \"gdalbuildvrt\":\n",
        "        cmd = f\"gdalbuildvrt {out_file} {in_file}\"\n",
        "    elif cmd_type == \"gdal_translate\":\n",
        "        cmd = f\"gdal_translate -a_srs EPSG:4326 -of GTiff {in_file} {out_file}\"\n",
        "    else:\n",
        "        raise NotImplementedError(f\"{cmd_type} not implemented.\")\n",
        "    if msg:\n",
        "        print(msg)\n",
        "    if print_cmd:\n",
        "        print(cmd)\n",
        "    os.system(cmd)\n",
        "\n",
        "def build_vrt(prefix):\n",
        "    # Build vrts for each batch of predictions\n",
        "    print(\"Building vrt for each batch\")\n",
        "    for d in tqdm(glob(f\"{prefix}_preds/*/*/\")):\n",
        "        if \"batch\" not in d:\n",
        "            continue\n",
        "\n",
        "        match = re.search(\"batch_(.*?)/\", d)\n",
        "        if match:\n",
        "            i = int(match.group(1))\n",
        "        else:\n",
        "            raise ValueError(f\"Cannot parse i from {d}\")\n",
        "        vrt_file = Path(f\"{prefix}_vrts/{i}.vrt\")\n",
        "        if not vrt_file.exists():\n",
        "            gdal_cmd(cmd_type=\"gdalbuildvrt\", in_file=f\"{d}*\", out_file=str(vrt_file))\n",
        "\n",
        "    gdal_cmd(\n",
        "        cmd_type=\"gdalbuildvrt\",\n",
        "        in_file=f\"{prefix}_vrts/*.vrt\",\n",
        "        out_file=f\"{prefix}_final.vrt\",\n",
        "        msg=\"Building full vrt\",\n",
        "    )\n"
      ]
    },
    {
      "cell_type": "markdown",
      "metadata": {
        "id": "Ag1WM1J_Ch-w"
      },
      "source": [
        "# 1. Setup\n",
        "**Prerequisite**: Access to bsos-geog-harvest Google Cloud project."
      ]
    },
    {
      "cell_type": "code",
      "execution_count": null,
      "metadata": {
        "id": "a6GvdFxr3WtI"
      },
      "outputs": [],
      "source": [
        "box_layout = widgets.Layout(flex_flow='column')\n",
        "model_type_widget = widgets.RadioButtons(\n",
        "    options=[\"crop-mask\", \"crop-type\"],\n",
        "    style= {'description_width': 'initial'},\n",
        "    value=\"crop-mask\",\n",
        "    description='Model type:',\n",
        "    disabled=False\n",
        ")\n",
        "\n",
        "Box(children=[model_type_widget], layout=box_layout)"
      ]
    },
    {
      "cell_type": "code",
      "execution_count": null,
      "metadata": {
        "id": "H8veEdNk3YS5"
      },
      "outputs": [],
      "source": [
        "model_type = model_type_widget.value\n",
        "\n",
        "# References to Google Cloud resources\n",
        "gcloud_project_id = \"bsos-geog-harvest1\"\n",
        "tifs_bucket_name = f\"{model_type}-earthengine\" \n",
        "preds_bucket_name = f\"{model_type}-preds\" \n",
        "preds_merged_bucket_name = f\"{model_type}-preds-merged\"\n",
        "models_url = f\"https://{model_type}-management-api-grxg7bzh2a-uc.a.run.app/models\""
      ]
    },
    {
      "cell_type": "code",
      "execution_count": null,
      "metadata": {
        "id": "K3ol__3R3PvW"
      },
      "outputs": [],
      "source": [
        "print(\"Logging into Google Cloud\")\n",
        "auth.authenticate_user()\n",
        "print(\"Logging into Earth Engine\")\n",
        "SCOPES = ['https://www.googleapis.com/auth/cloud-platform', 'https://www.googleapis.com/auth/earthengine']\n",
        "CREDENTIALS, project_id = google.auth.default(default_scopes=SCOPES)\n",
        "ee.Initialize(CREDENTIALS, project=gcloud_project_id)\n",
        "client = storage.Client(project=gcloud_project_id)"
      ]
    },
    {
      "cell_type": "code",
      "execution_count": null,
      "metadata": {
        "id": "9_965j2lDAyw"
      },
      "outputs": [],
      "source": [
        "response = requests.get(models_url)\n",
        "assert response.status_code == 200, f\"Got {response.status_code}. Either the url is incorrect or gcloud is not authenticated.\"\n",
        "available_models = [item[\"modelName\"] for item in response.json()[\"models\"]]\n",
        "available_models"
      ]
    },
    {
      "cell_type": "markdown",
      "metadata": {
        "id": "47dpxDPoCnF2"
      },
      "source": [
        "# 2. Inference configuration\n",
        "\n"
      ]
    },
    {
      "cell_type": "code",
      "execution_count": null,
      "metadata": {
        "id": "eK1Kxg4W30IO"
      },
      "outputs": [],
      "source": [
        "model_picker = widgets.Dropdown(options=available_models, description=\"Model to use\")\n",
        "\n",
        "start_date_select = widgets.DatePicker(description='Start date', value=date(2020, 2, 1))\n",
        "end_date_select = widgets.DatePicker(description='End date', value=date(2021, 2, 1))\n",
        "\n",
        "map_identifier = widgets.Text(description='Map identifier')\n",
        "\n",
        "Box(children=[\n",
        "              model_picker, \n",
        "              start_date_select, \n",
        "              end_date_select,\n",
        "              map_identifier\n",
        "              ], layout=box_layout)"
      ]
    },
    {
      "cell_type": "code",
      "execution_count": null,
      "metadata": {
        "id": "RUDx2NyfFAUY"
      },
      "outputs": [],
      "source": [
        "##################################################################\n",
        "# START: Configuration (edit below code)\n",
        "##################################################################\n",
        "# Coordinates for map\n",
        "lat = \n",
        "lon = \n",
        "\n",
        "# Small margin for demos\n",
        "# margin 0.01 -> 1 min\n",
        "# margin 0.02 -> 3 mins\n",
        "# margin 0.03 -> 9 mins\n",
        "# margin 0.05 -> 10 mins\n",
        "\n",
        "margin = 0.02 \n",
        "\n",
        "bbox = BBox(\n",
        "    min_lon=lon-margin, \n",
        "    max_lon=lon+margin, \n",
        "    min_lat=lat-margin, \n",
        "    max_lat=lat+margin\n",
        ")\n",
        "\n",
        "##################################################################\n",
        "# END: Configuration\n",
        "##################################################################\n",
        "\n",
        "start_date = start_date_select.value\n",
        "end_date = end_date_select.value\n",
        "model_name = model_picker.value\n",
        "version = map_identifier.value\n",
        "model_name_version = f\"{model_name}/{version}\"\n",
        "\n",
        "# Verify configuration\n",
        "assert version is not \"\", \"Map identifier not set.\"\n",
        "\n",
        "print(f\"Preparing to do inference for this region: {bbox.url}\")\n",
        "\n",
        "if str(start_date.year) not in model_name:\n",
        "  print((\"-\")*100)\n",
        "  print(f\"WARNING: Start year: {start_date.year} not in model name {model_name}, verify start and end date.\")\n",
        "  print((\"-\")*100)"
      ]
    },
    {
      "cell_type": "markdown",
      "metadata": {
        "id": "HjHH4bRmRsny"
      },
      "source": [
        "# 3. Run inference\n",
        "\n",
        "![inference](https://github.com/nasaharvest/crop-mask/blob/master/assets/inference.png?raw=true)\n",
        "\n"
      ]
    },
    {
      "cell_type": "code",
      "execution_count": null,
      "metadata": {
        "id": "yxRQbXJORl36"
      },
      "outputs": [],
      "source": [
        "# Inference can take time so you may need to rerun this cell multiple times\n",
        "ee_task_amount, tifs_amount, predictions_amount = get_status(model_name_version)\n",
        "if ee_task_amount == 0:\n",
        "    if tifs_amount == 0:\n",
        "      print(\"Starting earth engine exports...\")\n",
        "      EarthEngineExporter(check_ee=False, check_gcp=False, dest_bucket=tifs_bucket_name).export_for_bbox(    \n",
        "        bbox=bbox,\n",
        "        bbox_name=model_name_version,\n",
        "        start_date=start_date,\n",
        "        end_date=end_date,\n",
        "        metres_per_polygon=50000,\n",
        "        file_dimensions=256\n",
        "      )\n",
        "      print(\"Waiting for some data to become available, wait a couple seconds and rerun this cell.\")\n",
        "    elif tifs_amount > predictions_amount:\n",
        "        missing = find_missing_predictions(model_name_version)\n",
        "        make_new_predictions(missing)\n",
        "        print(\"Wait 5 seconds then rerun this cell.\")\n",
        "    else:\n",
        "        print(\"Inference complete! Time to merge predictions into a map.\")\n",
        "\n",
        "if ee_task_amount > 0:\n",
        "    print(f\"Please wait for all {ee_task_amount} Earth Engine tasks to complete and rerun this cell.\"\n",
        "    \"\\nView progress here: https://code.earthengine.google.com/tasks.\")\n",
        "    "
      ]
    },
    {
      "cell_type": "markdown",
      "metadata": {
        "id": "RRQJZrmmh5Zp"
      },
      "source": [
        "# 4. Merge predictions into a map\n",
        "\n",
        "<img src=\"https://github.com/nasaharvest/crop-mask/blob/master/assets/merging-predictions.png?raw=true\" alt=\"merging-predictions\" width=\"500\"/>"
      ]
    },
    {
      "cell_type": "code",
      "execution_count": null,
      "metadata": {
        "id": "plixoT3lyUop"
      },
      "outputs": [],
      "source": [
        "if ee_task_amount > 0:\n",
        "    print(f\"Please wait for all {ee_task_amount} Earth Engine tasks to complete and rerun the above cell before moving on.\")\n",
        "else:\n",
        "  prefix = f\"{model_name}_{version}\"\n",
        "  Path(f\"{prefix}_preds\").mkdir(exist_ok=True)\n",
        "  Path(f\"{prefix}_vrts\").mkdir(exist_ok=True)\n",
        "  Path(f\"{prefix}_tifs\").mkdir(exist_ok=True)"
      ]
    },
    {
      "cell_type": "code",
      "execution_count": null,
      "metadata": {
        "id": "pdkZpkRIkv_3"
      },
      "outputs": [],
      "source": [
        "print(\"Download predictions as nc files (may take several minutes)\")\n",
        "!gsutil -m cp -n -r gs://{preds_bucket_name}/{model_name_version}* {prefix}_preds"
      ]
    },
    {
      "cell_type": "code",
      "execution_count": null,
      "metadata": {
        "id": "cS-z3N9Wo83U"
      },
      "outputs": [],
      "source": [
        "build_vrt(prefix)"
      ]
    },
    {
      "cell_type": "code",
      "execution_count": null,
      "metadata": {
        "id": "alItdeCvrn4Y"
      },
      "outputs": [],
      "source": [
        "# Translate vrt for all predictions into a tif file\n",
        "!gdal_translate -a_srs EPSG:4326 -of GTiff {prefix}_final.vrt {prefix}_final.tif"
      ]
    },
    {
      "cell_type": "markdown",
      "metadata": {
        "id": "WiM4mJ7ZxKjX"
      },
      "source": [
        "# 5. Upload map to Earth Engine"
      ]
    },
    {
      "cell_type": "code",
      "execution_count": null,
      "metadata": {
        "id": "9CR-bWV1x1KB"
      },
      "outputs": [],
      "source": [
        "dest = f\"gs://{preds_merged_bucket_name}/{model_name_version}_{start_date}_{end_date}\""
      ]
    },
    {
      "cell_type": "code",
      "execution_count": null,
      "metadata": {
        "id": "U_ailjn5roRF"
      },
      "outputs": [],
      "source": [
        "!gsutil cp {prefix}_final.tif {dest}"
      ]
    },
    {
      "cell_type": "code",
      "execution_count": null,
      "metadata": {
        "id": "W5fqFMfwzUkj"
      },
      "outputs": [],
      "source": [
        "earthengine_user = input(\"Enter your earthengine username: \")\n",
        "request_id = ee.data.newTaskId()[0]\n",
        "params = {\n",
        "    \"name\": f\"projects/earthengine-legacy/assets/users/{earthengine_user}/{prefix}\",\n",
        "    'tilesets': [{'sources': [{'uris': [dest]}]}], \n",
        "    'start_time': f\"{start_date}T00:00:00Z\", \n",
        "    'end_time': f\"{end_date}T00:00:00Z\"\n",
        "}\n",
        "ee.data.startIngestion(request_id=request_id, params=params, allow_overwrite=True)\n",
        "print(\"See map upload here: https://code.earthengine.google.com/tasks\")"
      ]
    },
    {
      "cell_type": "markdown",
      "metadata": {
        "id": "_D8vNDljBPuK"
      },
      "source": [
        "# 6. Visualize on GEE\n",
        "\n",
        "Click **View asset** on the image just created here: https://code.earthengine.google.com/tasks\n",
        "\n",
        "\n",
        "Then click **Import** and add the following to the script to view the map\n",
        "```\n",
        "var palettes = require('users/gena/packages:palettes');\n",
        "var palette = palettes.cmocean.Speed[7]\n",
        "\n",
        "Map.setCenter(lon, lat, 11); \n",
        "Map.addLayer(image.gt(0.5), {min: 0, max: 1.0, palette: palette.slice(0,-2)}, 'mask');\n",
        "Map.addLayer(image, {min: 0, max: 1.0, palette: palette}, 'My crop map');\n",
        "```"
      ]
    }
  ],
  "metadata": {
    "colab": {
      "name": "crop-mask-inference.ipynb",
      "provenance": []
    },
    "kernelspec": {
      "display_name": "Python 3",
      "name": "python3"
    },
    "language_info": {
      "name": "python"
    }
  },
  "nbformat": 4,
  "nbformat_minor": 0
}
